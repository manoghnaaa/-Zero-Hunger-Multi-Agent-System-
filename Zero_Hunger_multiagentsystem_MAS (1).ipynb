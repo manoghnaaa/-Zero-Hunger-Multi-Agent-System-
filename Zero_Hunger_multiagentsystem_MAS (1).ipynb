{
  "nbformat": 4,
  "nbformat_minor": 0,
  "metadata": {
    "colab": {
      "provenance": []
    },
    "kernelspec": {
      "name": "python3",
      "display_name": "Python 3"
    },
    "language_info": {
      "name": "python"
    },
    "widgets": {
      "application/vnd.jupyter.widget-state+json": {
        "57fb394d99e947a7a7ef3cf877800490": {
          "model_module": "@jupyter-widgets/controls",
          "model_name": "DropdownModel",
          "model_module_version": "1.5.0",
          "state": {
            "_dom_classes": [],
            "_model_module": "@jupyter-widgets/controls",
            "_model_module_version": "1.5.0",
            "_model_name": "DropdownModel",
            "_options_labels": [
              "Policy Recommendation",
              "Nutrition Advice",
              "Farmer Guidance",
              "Disaster Response",
              "Supply Chain Fix"
            ],
            "_view_count": null,
            "_view_module": "@jupyter-widgets/controls",
            "_view_module_version": "1.5.0",
            "_view_name": "DropdownView",
            "description": "Prompt Type:",
            "description_tooltip": null,
            "disabled": false,
            "index": 1,
            "layout": "IPY_MODEL_15094d493981417c937bfd86dfaaa1aa",
            "style": "IPY_MODEL_7ab50a8d87af4e7190b38b48505a6b6c"
          }
        },
        "15094d493981417c937bfd86dfaaa1aa": {
          "model_module": "@jupyter-widgets/base",
          "model_name": "LayoutModel",
          "model_module_version": "1.2.0",
          "state": {
            "_model_module": "@jupyter-widgets/base",
            "_model_module_version": "1.2.0",
            "_model_name": "LayoutModel",
            "_view_count": null,
            "_view_module": "@jupyter-widgets/base",
            "_view_module_version": "1.2.0",
            "_view_name": "LayoutView",
            "align_content": null,
            "align_items": null,
            "align_self": null,
            "border": null,
            "bottom": null,
            "display": null,
            "flex": null,
            "flex_flow": null,
            "grid_area": null,
            "grid_auto_columns": null,
            "grid_auto_flow": null,
            "grid_auto_rows": null,
            "grid_column": null,
            "grid_gap": null,
            "grid_row": null,
            "grid_template_areas": null,
            "grid_template_columns": null,
            "grid_template_rows": null,
            "height": null,
            "justify_content": null,
            "justify_items": null,
            "left": null,
            "margin": null,
            "max_height": null,
            "max_width": null,
            "min_height": null,
            "min_width": null,
            "object_fit": null,
            "object_position": null,
            "order": null,
            "overflow": null,
            "overflow_x": null,
            "overflow_y": null,
            "padding": null,
            "right": null,
            "top": null,
            "visibility": null,
            "width": null
          }
        },
        "7ab50a8d87af4e7190b38b48505a6b6c": {
          "model_module": "@jupyter-widgets/controls",
          "model_name": "DescriptionStyleModel",
          "model_module_version": "1.5.0",
          "state": {
            "_model_module": "@jupyter-widgets/controls",
            "_model_module_version": "1.5.0",
            "_model_name": "DescriptionStyleModel",
            "_view_count": null,
            "_view_module": "@jupyter-widgets/base",
            "_view_module_version": "1.2.0",
            "_view_name": "StyleView",
            "description_width": ""
          }
        },
        "1377a8a3e4304bd28d52dfed13652f74": {
          "model_module": "@jupyter-widgets/controls",
          "model_name": "TextareaModel",
          "model_module_version": "1.5.0",
          "state": {
            "_dom_classes": [],
            "_model_module": "@jupyter-widgets/controls",
            "_model_module_version": "1.5.0",
            "_model_name": "TextareaModel",
            "_view_count": null,
            "_view_module": "@jupyter-widgets/controls",
            "_view_module_version": "1.5.0",
            "_view_name": "TextareaView",
            "continuous_update": true,
            "description": "Prompt:",
            "description_tooltip": null,
            "disabled": false,
            "layout": "IPY_MODEL_65241c586daa459d98193c004bd7c21c",
            "placeholder": "Type your policy question or food issue here...",
            "rows": null,
            "style": "IPY_MODEL_c9e0caca7cef45bab5f4bfd099c43e0a",
            "value": "A consumer has access only to potatoes, spinach, and milk. Suggest a balanced meal plan."
          }
        },
        "65241c586daa459d98193c004bd7c21c": {
          "model_module": "@jupyter-widgets/base",
          "model_name": "LayoutModel",
          "model_module_version": "1.2.0",
          "state": {
            "_model_module": "@jupyter-widgets/base",
            "_model_module_version": "1.2.0",
            "_model_name": "LayoutModel",
            "_view_count": null,
            "_view_module": "@jupyter-widgets/base",
            "_view_module_version": "1.2.0",
            "_view_name": "LayoutView",
            "align_content": null,
            "align_items": null,
            "align_self": null,
            "border": null,
            "bottom": null,
            "display": null,
            "flex": null,
            "flex_flow": null,
            "grid_area": null,
            "grid_auto_columns": null,
            "grid_auto_flow": null,
            "grid_auto_rows": null,
            "grid_column": null,
            "grid_gap": null,
            "grid_row": null,
            "grid_template_areas": null,
            "grid_template_columns": null,
            "grid_template_rows": null,
            "height": "100px",
            "justify_content": null,
            "justify_items": null,
            "left": null,
            "margin": null,
            "max_height": null,
            "max_width": null,
            "min_height": null,
            "min_width": null,
            "object_fit": null,
            "object_position": null,
            "order": null,
            "overflow": null,
            "overflow_x": null,
            "overflow_y": null,
            "padding": null,
            "right": null,
            "top": null,
            "visibility": null,
            "width": "90%"
          }
        },
        "c9e0caca7cef45bab5f4bfd099c43e0a": {
          "model_module": "@jupyter-widgets/controls",
          "model_name": "DescriptionStyleModel",
          "model_module_version": "1.5.0",
          "state": {
            "_model_module": "@jupyter-widgets/controls",
            "_model_module_version": "1.5.0",
            "_model_name": "DescriptionStyleModel",
            "_view_count": null,
            "_view_module": "@jupyter-widgets/base",
            "_view_module_version": "1.2.0",
            "_view_name": "StyleView",
            "description_width": "initial"
          }
        },
        "8d40f8f880e349848113765bb4d24a59": {
          "model_module": "@jupyter-widgets/controls",
          "model_name": "ButtonModel",
          "model_module_version": "1.5.0",
          "state": {
            "_dom_classes": [],
            "_model_module": "@jupyter-widgets/controls",
            "_model_module_version": "1.5.0",
            "_model_name": "ButtonModel",
            "_view_count": null,
            "_view_module": "@jupyter-widgets/controls",
            "_view_module_version": "1.5.0",
            "_view_name": "ButtonView",
            "button_style": "success",
            "description": "Ask",
            "disabled": false,
            "icon": "",
            "layout": "IPY_MODEL_158b8e6861e54a43a29264b18306857c",
            "style": "IPY_MODEL_922e6920e8fa458ba4016bd4e63df97d",
            "tooltip": "Click to get AI response"
          }
        },
        "158b8e6861e54a43a29264b18306857c": {
          "model_module": "@jupyter-widgets/base",
          "model_name": "LayoutModel",
          "model_module_version": "1.2.0",
          "state": {
            "_model_module": "@jupyter-widgets/base",
            "_model_module_version": "1.2.0",
            "_model_name": "LayoutModel",
            "_view_count": null,
            "_view_module": "@jupyter-widgets/base",
            "_view_module_version": "1.2.0",
            "_view_name": "LayoutView",
            "align_content": null,
            "align_items": null,
            "align_self": null,
            "border": null,
            "bottom": null,
            "display": null,
            "flex": null,
            "flex_flow": null,
            "grid_area": null,
            "grid_auto_columns": null,
            "grid_auto_flow": null,
            "grid_auto_rows": null,
            "grid_column": null,
            "grid_gap": null,
            "grid_row": null,
            "grid_template_areas": null,
            "grid_template_columns": null,
            "grid_template_rows": null,
            "height": null,
            "justify_content": null,
            "justify_items": null,
            "left": null,
            "margin": null,
            "max_height": null,
            "max_width": null,
            "min_height": null,
            "min_width": null,
            "object_fit": null,
            "object_position": null,
            "order": null,
            "overflow": null,
            "overflow_x": null,
            "overflow_y": null,
            "padding": null,
            "right": null,
            "top": null,
            "visibility": null,
            "width": null
          }
        },
        "922e6920e8fa458ba4016bd4e63df97d": {
          "model_module": "@jupyter-widgets/controls",
          "model_name": "ButtonStyleModel",
          "model_module_version": "1.5.0",
          "state": {
            "_model_module": "@jupyter-widgets/controls",
            "_model_module_version": "1.5.0",
            "_model_name": "ButtonStyleModel",
            "_view_count": null,
            "_view_module": "@jupyter-widgets/base",
            "_view_module_version": "1.2.0",
            "_view_name": "StyleView",
            "button_color": null,
            "font_weight": ""
          }
        },
        "bcc03d895f454a69843ee414f4cb69e0": {
          "model_module": "@jupyter-widgets/output",
          "model_name": "OutputModel",
          "model_module_version": "1.0.0",
          "state": {
            "_dom_classes": [],
            "_model_module": "@jupyter-widgets/output",
            "_model_module_version": "1.0.0",
            "_model_name": "OutputModel",
            "_view_count": null,
            "_view_module": "@jupyter-widgets/output",
            "_view_module_version": "1.0.0",
            "_view_name": "OutputView",
            "layout": "IPY_MODEL_e56697fc481e4f63aab411b147fbe53e",
            "msg_id": "",
            "outputs": [
              {
                "output_type": "stream",
                "name": "stdout",
                "text": [
                  "🔍 Prompt: A consumer has access only to potatoes, spinach, and milk. Suggest a balanced meal plan.\n"
                ]
              },
              {
                "output_type": "display_data",
                "data": {
                  "text/plain": "<IPython.core.display.Markdown object>",
                  "text/markdown": "### 🤖 Response:\nHere is a simple balanced meal plan using only potatoes, spinach, and milk:\n\n1. Breakfast:\n   - Spinach Smoothie: Blend a cup of fresh spinach, a banana, some almond milk, and a scoop of protein powder for a nutrient-packed breakfast.\n\n2. Lunch:\n   - Baked Potato with a side of sautéed spinach: Top the baked potato with some low-fat cheese, Greek yogurt, and a sprinkle of chives. Cook spinach with garlic, olive oil, and a squeeze of lemon for added flavor and nutrition.\n\n3. Dinner:\n   - Creamed Spinach and Potatoes: Mash boiled potatoes with some milk, butter, and salt. Prepare creamed spinach by cooking spinach and garlic, then adding milk, flour, and a touch of nutmeg for seasoning.\n\n4. Snack:\n   - Glass of warm milk with a handful of spinach (optional): Blend spinach with warm milk for an extra dose of nutrients during the day.\n\n5. Dessert:\n   - Potato Pudding: Cook mashed potatoes, sugar, eggs, milk, and a pinch of salt in the oven for a unique dessert.\n\nRemember to consume all meals in moderation and balance the intake of potatoes with the other food sources to maintain a nutritionally balanced diet. This meal plan is not designed to meet all nutritional requirements but serves as a suggestion for a limited set of available food items. It is always recommended to consult a registered dietitian or healthcare provider for personalized advice."
                },
                "metadata": {}
              }
            ]
          }
        },
        "e56697fc481e4f63aab411b147fbe53e": {
          "model_module": "@jupyter-widgets/base",
          "model_name": "LayoutModel",
          "model_module_version": "1.2.0",
          "state": {
            "_model_module": "@jupyter-widgets/base",
            "_model_module_version": "1.2.0",
            "_model_name": "LayoutModel",
            "_view_count": null,
            "_view_module": "@jupyter-widgets/base",
            "_view_module_version": "1.2.0",
            "_view_name": "LayoutView",
            "align_content": null,
            "align_items": null,
            "align_self": null,
            "border": null,
            "bottom": null,
            "display": null,
            "flex": null,
            "flex_flow": null,
            "grid_area": null,
            "grid_auto_columns": null,
            "grid_auto_flow": null,
            "grid_auto_rows": null,
            "grid_column": null,
            "grid_gap": null,
            "grid_row": null,
            "grid_template_areas": null,
            "grid_template_columns": null,
            "grid_template_rows": null,
            "height": null,
            "justify_content": null,
            "justify_items": null,
            "left": null,
            "margin": null,
            "max_height": null,
            "max_width": null,
            "min_height": null,
            "min_width": null,
            "object_fit": null,
            "object_position": null,
            "order": null,
            "overflow": null,
            "overflow_x": null,
            "overflow_y": null,
            "padding": null,
            "right": null,
            "top": null,
            "visibility": null,
            "width": null
          }
        }
      }
    }
  },
  "cells": [
    {
      "cell_type": "code",
      "source": [
        "# Create folders\n",
        "!mkdir -p zero_hunger_mas/agents\n",
        "\n"
      ],
      "metadata": {
        "id": "CTtcOiUo1t4K"
      },
      "execution_count": null,
      "outputs": []
    },
    {
      "cell_type": "code",
      "source": [
        "!pip install huggingface_hub\n"
      ],
      "metadata": {
        "colab": {
          "base_uri": "https://localhost:8080/"
        },
        "id": "1FO-sqFAnQq9",
        "outputId": "9d82bda8-cda3-4c53-bab6-c8a3729a1d51"
      },
      "execution_count": null,
      "outputs": [
        {
          "output_type": "stream",
          "name": "stdout",
          "text": [
            "Requirement already satisfied: huggingface_hub in /usr/local/lib/python3.11/dist-packages (0.34.1)\n",
            "Requirement already satisfied: filelock in /usr/local/lib/python3.11/dist-packages (from huggingface_hub) (3.18.0)\n",
            "Requirement already satisfied: fsspec>=2023.5.0 in /usr/local/lib/python3.11/dist-packages (from huggingface_hub) (2025.3.0)\n",
            "Requirement already satisfied: packaging>=20.9 in /usr/local/lib/python3.11/dist-packages (from huggingface_hub) (25.0)\n",
            "Requirement already satisfied: pyyaml>=5.1 in /usr/local/lib/python3.11/dist-packages (from huggingface_hub) (6.0.2)\n",
            "Requirement already satisfied: requests in /usr/local/lib/python3.11/dist-packages (from huggingface_hub) (2.32.3)\n",
            "Requirement already satisfied: tqdm>=4.42.1 in /usr/local/lib/python3.11/dist-packages (from huggingface_hub) (4.67.1)\n",
            "Requirement already satisfied: typing-extensions>=3.7.4.3 in /usr/local/lib/python3.11/dist-packages (from huggingface_hub) (4.14.1)\n",
            "Requirement already satisfied: hf-xet<2.0.0,>=1.1.3 in /usr/local/lib/python3.11/dist-packages (from huggingface_hub) (1.1.5)\n",
            "Requirement already satisfied: charset-normalizer<4,>=2 in /usr/local/lib/python3.11/dist-packages (from requests->huggingface_hub) (3.4.2)\n",
            "Requirement already satisfied: idna<4,>=2.5 in /usr/local/lib/python3.11/dist-packages (from requests->huggingface_hub) (3.10)\n",
            "Requirement already satisfied: urllib3<3,>=1.21.1 in /usr/local/lib/python3.11/dist-packages (from requests->huggingface_hub) (2.5.0)\n",
            "Requirement already satisfied: certifi>=2017.4.17 in /usr/local/lib/python3.11/dist-packages (from requests->huggingface_hub) (2025.7.14)\n"
          ]
        }
      ]
    },
    {
      "cell_type": "code",
      "source": [
        "from huggingface_hub import InferenceClient\n",
        "from google.colab import userdata\n",
        "import os\n",
        "\n",
        "os.environ[\"HUGGINGFACEHUB_API_TOKEN\"] = userdata.get('HF_TOKEN')\n",
        "\n",
        "# Initialize client\n",
        "client = InferenceClient(\"mistralai/Mixtral-8x7B-Instruct-v0.1\", token=os.environ[\"HUGGINGFACEHUB_API_TOKEN\"])\n",
        "\n",
        "def query_huggingface(prompt):\n",
        "    print(\"🔍 Prompt:\", prompt)\n",
        "    messages = [{\"role\": \"user\", \"content\": prompt}]\n",
        "    return client.chat_completion(messages, max_tokens=500).choices[0].message.content.strip()"
      ],
      "metadata": {
        "id": "0hj1Fg_4nTZY"
      },
      "execution_count": null,
      "outputs": []
    },
    {
      "cell_type": "code",
      "source": [
        "%%writefile zero_hunger_mas/agents/environment.py\n",
        "import random\n",
        "\n",
        "class EnvironmentAgent:\n",
        "    def __init__(self):\n",
        "        self.soil_quality = random.choice([\"poor\", \"moderate\", \"rich\"])\n",
        "        self.water_level = random.choice([\"scarce\", \"adequate\", \"abundant\"])\n",
        "        self.weather_event = random.choice([\"drought\", \"flood\", \"normal\"])\n",
        "\n",
        "    def simulate_conditions(self):\n",
        "        self.soil_quality = random.choice([\"poor\", \"moderate\", \"rich\"])\n",
        "        self.water_level = random.choice([\"scarce\", \"adequate\", \"abundant\"])\n",
        "        self.weather_event = random.choice([\"drought\", \"flood\", \"normal\"])\n"
      ],
      "metadata": {
        "colab": {
          "base_uri": "https://localhost:8080/"
        },
        "id": "KN8TiFj5negZ",
        "outputId": "4cd58625-5042-4943-c36a-1c3360fecb37"
      },
      "execution_count": null,
      "outputs": [
        {
          "output_type": "stream",
          "name": "stdout",
          "text": [
            "Overwriting zero_hunger_mas/agents/environment.py\n"
          ]
        }
      ]
    },
    {
      "cell_type": "code",
      "source": [
        "%%writefile zero_hunger_mas/agents/farmer.py\n",
        "class FarmerAgent:\n",
        "    def __init__(self, environment, policy_engine):\n",
        "        self.environment = environment\n",
        "        self.policy_engine = policy_engine\n",
        "\n",
        "    def decide_crop(self):\n",
        "        prompt = f\"The soil is {self.environment.soil_quality}, water is {self.environment.water_level}. Recommend a crop.\"\n",
        "        return self.policy_engine(prompt)\n"
      ],
      "metadata": {
        "colab": {
          "base_uri": "https://localhost:8080/"
        },
        "id": "P5c9rb8HnkK3",
        "outputId": "c5f5421f-f3a6-42a7-f18f-c8eb07ffaace"
      },
      "execution_count": null,
      "outputs": [
        {
          "output_type": "stream",
          "name": "stdout",
          "text": [
            "Overwriting zero_hunger_mas/agents/farmer.py\n"
          ]
        }
      ]
    },
    {
      "cell_type": "code",
      "source": [
        "%%writefile zero_hunger_mas/agents/consumer.py\n",
        "class ConsumerAgent:\n",
        "    def __init__(self, policy_engine):\n",
        "        self.policy_engine = policy_engine\n",
        "\n",
        "    def request_nutrition_advice(self, available_items):\n",
        "        prompt = f\"A consumer has access only to {', '.join(available_items)}. Suggest a balanced diet using these items.\"\n",
        "        return self.policy_engine(prompt)\n"
      ],
      "metadata": {
        "colab": {
          "base_uri": "https://localhost:8080/"
        },
        "id": "NpUhg1Aunj-n",
        "outputId": "7263b1df-95b6-42a1-a02f-c888545f0bb0"
      },
      "execution_count": null,
      "outputs": [
        {
          "output_type": "stream",
          "name": "stdout",
          "text": [
            "Overwriting zero_hunger_mas/agents/consumer.py\n"
          ]
        }
      ]
    },
    {
      "cell_type": "code",
      "source": [
        "%%writefile zero_hunger_mas/agents/distributor.py\n",
        "class DistributorAgent:\n",
        "    def __init__(self, policy_engine):\n",
        "        self.policy_engine = policy_engine\n",
        "\n",
        "    def adjust_distribution(self, region_data):\n",
        "        prompt = f\"Region data shows supply-demand imbalance: {region_data}. How should distribution be adjusted?\"\n",
        "        return self.policy_engine(prompt)\n"
      ],
      "metadata": {
        "colab": {
          "base_uri": "https://localhost:8080/"
        },
        "id": "hGnTH-Ah2UWK",
        "outputId": "5662e331-b868-48e6-be2f-f935caf322ef"
      },
      "execution_count": null,
      "outputs": [
        {
          "output_type": "stream",
          "name": "stdout",
          "text": [
            "Overwriting zero_hunger_mas/agents/distributor.py\n"
          ]
        }
      ]
    },
    {
      "cell_type": "code",
      "source": [
        "%%writefile zero_hunger_mas/agents/nutrition_expert.py\n",
        "class NutritionExpertAgent:\n",
        "    def __init__(self, policy_engine):\n",
        "        self.policy_engine = policy_engine\n",
        "\n",
        "    def provide_diet_plan(self, health_conditions, foods_available):\n",
        "        prompt = f\"A person with {health_conditions} has access to {', '.join(foods_available)}. Recommend a diet plan.\"\n",
        "        return self.policy_engine(prompt)\n"
      ],
      "metadata": {
        "colab": {
          "base_uri": "https://localhost:8080/"
        },
        "id": "sRVaMxuznw6s",
        "outputId": "5dfb6e86-40a2-495a-c959-37a78ac72c40"
      },
      "execution_count": null,
      "outputs": [
        {
          "output_type": "stream",
          "name": "stdout",
          "text": [
            "Overwriting zero_hunger_mas/agents/nutrition_expert.py\n"
          ]
        }
      ]
    },
    {
      "cell_type": "code",
      "source": [
        "%%writefile zero_hunger_mas/run_simulation.py\n",
        "from agents.environment import EnvironmentAgent\n",
        "from agents.farmer import FarmerAgent\n",
        "from agents.consumer import ConsumerAgent\n",
        "from agents.distributor import DistributorAgent\n",
        "from agents.nutrition_expert import NutritionExpertAgent\n",
        "\n",
        "def run_simulation(policy_engine):\n",
        "    # Create environment\n",
        "    env = EnvironmentAgent()\n",
        "    env.simulate_conditions()\n",
        "\n",
        "    # Instantiate agents\n",
        "    farmer = FarmerAgent(env, policy_engine)\n",
        "    consumer = ConsumerAgent(policy_engine)\n",
        "    distributor = DistributorAgent(policy_engine)\n",
        "    nutritionist = NutritionExpertAgent(policy_engine)\n",
        "\n",
        "    # Simulate interactions\n",
        "    print(\"🌾 Farmer decision:\", farmer.decide_crop())\n",
        "    print(\"🛒 Consumer diet:\", consumer.request_nutrition_advice([\"rice\", \"lentils\", \"bananas\"]))\n",
        "    print(\"🚛 Distribution advice:\", distributor.adjust_distribution(\"High demand, low supply in Region A\"))\n",
        "    print(\"🥗 Nutrition plan:\", nutritionist.provide_diet_plan(\"diabetes\", [\"oats\", \"greens\", \"chicken\"]))"
      ],
      "metadata": {
        "colab": {
          "base_uri": "https://localhost:8080/"
        },
        "id": "sHFb_-lYny3N",
        "outputId": "c62a0446-b344-4173-e718-e050da38defa"
      },
      "execution_count": null,
      "outputs": [
        {
          "output_type": "stream",
          "name": "stdout",
          "text": [
            "Overwriting zero_hunger_mas/run_simulation.py\n"
          ]
        }
      ]
    },
    {
      "cell_type": "markdown",
      "source": [
        "#How to Test Prompts Manually"
      ],
      "metadata": {
        "id": "Gw-IRzz-pJkU"
      }
    },
    {
      "cell_type": "code",
      "source": [
        "from zero_hunger_mas.agents.environment import EnvironmentAgent\n",
        "from zero_hunger_mas.agents.farmer import FarmerAgent\n",
        "from zero_hunger_mas.agents.consumer import ConsumerAgent\n",
        "from zero_hunger_mas.agents.distributor import DistributorAgent\n",
        "from zero_hunger_mas.agents.nutrition_expert import NutritionExpertAgent\n"
      ],
      "metadata": {
        "id": "6HQ1QzyapLAG"
      },
      "execution_count": null,
      "outputs": []
    },
    {
      "cell_type": "code",
      "source": [
        "def query_huggingface(prompt):\n",
        "    messages = [{\"role\": \"user\", \"content\": prompt}]\n",
        "    return client.chat_completion(messages, max_tokens=500).choices[0].message.content.strip()"
      ],
      "metadata": {
        "id": "Ms42M-tkpOYC"
      },
      "execution_count": null,
      "outputs": []
    },
    {
      "cell_type": "markdown",
      "source": [
        "##Testing diff agents whether existing or not"
      ],
      "metadata": {
        "id": "fjRHk7igTKbI"
      }
    },
    {
      "cell_type": "code",
      "source": [
        "env = EnvironmentAgent()\n",
        "env.soil_quality = \"poor\"\n",
        "env.water_level = \"scarce\"\n",
        "\n",
        "farmer = FarmerAgent(env, query_huggingface)\n",
        "print(\"Farmer Decision:\", farmer.decide_crop())"
      ],
      "metadata": {
        "colab": {
          "base_uri": "https://localhost:8080/"
        },
        "id": "_6dd5x0PpRNT",
        "outputId": "3b4fc881-7d2d-45ce-d54a-6a906fe63ae2"
      },
      "execution_count": null,
      "outputs": [
        {
          "output_type": "stream",
          "name": "stdout",
          "text": [
            "Farmer Decision: In a situation where the soil is poor and water is scarce, a crop that I would recommend is quinoa (Chenopodium quinoa). Quinoa is a hardy crop that is well-adapted to dry, nutrient-poor soils and can survive in harsh conditions where many other crops would fail.\n",
            "\n",
            "Quinoa is a highly nutritious grain that is rich in protein, fiber, and essential minerals, making it an excellent choice for food security in challenging environments. It is also relatively drought-tolerant and can be grown with minimal irrigation, which makes it a suitable crop for areas with limited water resources.\n",
            "\n",
            "Quinoa is a versatile crop that can be grown in a wide range of climates and altitudes, from sea level to 4,000 meters above sea level. It is also a short-season crop, typically taking between 90 to 120 days from planting to harvest, which can help reduce the risk of crop failure due to unpredictable weather patterns.\n",
            "\n",
            "Overall, quinoa is an excellent crop choice for areas with poor soil and limited water resources, providing both nutritional and agricultural benefits.\n"
          ]
        }
      ]
    },
    {
      "cell_type": "code",
      "metadata": {
        "colab": {
          "base_uri": "https://localhost:8080/"
        },
        "id": "b10e9aed",
        "outputId": "3b7b126c-9f5d-4259-d7be-add54fe529fb"
      },
      "source": [
        "consumer = ConsumerAgent(query_huggingface)\n",
        "print(\"Consumer Diet:\", consumer.request_nutrition_advice([\"rice\", \"lentils\", \"bananas\"]))"
      ],
      "execution_count": null,
      "outputs": [
        {
          "output_type": "stream",
          "name": "stdout",
          "text": [
            "Consumer Diet: Sure, I'd be happy to help! Here's an example of a balanced diet using only rice, lentils, and bananas:\n",
            "\n",
            "* Breakfast: Banana porridge\n",
            "\t+ Cook 1/2 cup of rice in 1 cup of water until soft and creamy.\n",
            "\t+ Mash 1 ripe banana and mix it into the cooked rice.\n",
            "\t+ Sprinkle with cinnamon or nutmeg, if desired.\n",
            "* Lunch: Lentil and rice salad\n",
            "\t+ Cook 1 cup of lentils according to package directions.\n",
            "\t+ Cook 1 cup of rice according to package directions.\n",
            "\t+ Mix the cooked lentils and rice together in a large bowl.\n",
            "\t+ Add diced vegetables such as bell peppers, tomatoes, and cucumbers.\n",
            "\t+ Dress with a simple vinaigrette made from olive oil, vinegar, and mustard.\n",
            "* Dinner: Rice and banana stew\n",
            "\t+ In a large pot, sauté diced onions, garlic, and ginger in a little oil until soft.\n",
            "\t+ Add 1 cup of rice and stir to coat with the oil and onion mixture.\n",
            "\t+ Add 2 cups of water and bring to a boil.\n",
            "\t+ Once boiling, add 2 chopped bananas and 1 cup of cooked lentils.\n",
            "\t+ Reduce heat to low, cover, and simmer until the rice is fully cooked and the bananas are soft.\n",
            "* Snacks: Sliced bananas with peanut butter or rice cakes topped with mashed avocado and black beans.\n",
            "\n",
            "This diet includes a variety of foods to ensure you're getting all the necessary nutrients. The rice and lentils provide carbohydrates, fiber, and protein, while the bananas offer potassium, vitamin C, and vitamin B6. The added vegetables and seasonings can also contribute important vitamins and minerals. However, it's important to note that this is a very limited diet and may not provide all the nutrients your body needs in the long term. It's always best to consult with a healthcare provider or registered dietitian for personalized dietary advice.\n"
          ]
        }
      ]
    },
    {
      "cell_type": "code",
      "metadata": {
        "colab": {
          "base_uri": "https://localhost:8080/"
        },
        "id": "e0604fe8",
        "outputId": "1fad391c-3adb-450b-f1e8-7a8377fcb535"
      },
      "source": [
        "distributor = DistributorAgent(query_huggingface)\n",
        "print(\"Distribution Advice:\", distributor.adjust_distribution(\"High demand, low supply in Region A\"))"
      ],
      "execution_count": null,
      "outputs": [
        {
          "output_type": "stream",
          "name": "stdout",
          "text": [
            "Distribution Advice: If the data shows a supply-demand imbalance in Region A with high demand and low supply, there are several ways to adjust the distribution to better match the market conditions:\n",
            "\n",
            "1. Increase supply: Encourage more producers to enter the market in Region A by offering incentives, reducing barriers to entry, or providing assistance to existing producers to expand their operations. This can help increase the supply of goods or services in the region and alleviate the imbalance.\n",
            "2. Decrease demand: Implement demand management strategies to reduce the demand for goods or services in Region A. This could include promoting alternative options, implementing pricing strategies, or encouraging consumers to shift their consumption to other regions or times.\n",
            "3. Redirect supply: Consider redirecting supply from other regions to Region A to address the imbalance. This may involve adjusting transportation or logistics systems to make it easier to move goods or services between regions.\n",
            "4. Improve efficiency: Look for ways to improve the efficiency of supply chain operations in Region A to make the most of the available supply. This could include optimizing inventory management, improving transportation networks, or implementing new technologies to streamline operations.\n",
            "5. Encourage collaboration: Encourage collaboration between producers, distributors, and retailers in Region A to develop joint strategies to address the imbalance. This could include sharing resources, coordinating production schedules, or developing joint marketing campaigns to promote the region's goods or services.\n",
            "6. Monitor and adjust: Continuously monitor market conditions in Region A and adjust distribution strategies as needed. This may involve adjusting supply or demand management strategies, redirecting supply, or implementing new efficiency measures as conditions change.\n"
          ]
        }
      ]
    },
    {
      "cell_type": "code",
      "metadata": {
        "colab": {
          "base_uri": "https://localhost:8080/"
        },
        "id": "8a8d37c3",
        "outputId": "c482aad4-4ca5-42d1-da22-884e428166b6"
      },
      "source": [
        "nutritionist = NutritionExpertAgent(query_huggingface)\n",
        "print(\"Nutrition Plan:\", nutritionist.provide_diet_plan(\"diabetes\", [\"oats\", \"greens\", \"chicken\"]))"
      ],
      "execution_count": null,
      "outputs": [
        {
          "output_type": "stream",
          "name": "stdout",
          "text": [
            "Nutrition Plan: Sure, I'd be happy to help you create a healthy meal plan for someone with diabetes using those foods. Here's a sample diet plan:\n",
            "\n",
            "**Breakfast:**\n",
            "\n",
            "* Steel-cut oats with almond milk, topped with a handful of berries and a sprinkle of cinnamon\n",
            "* A glass of water with a slice of lemon\n",
            "\n",
            "**Mid-Morning Snack:**\n",
            "\n",
            "* A cup of raw veggies (like carrots, cucumber, and cherry tomatoes) with hummus\n",
            "* A cup of unsweetened tea or coffee\n",
            "\n",
            "**Lunch:**\n",
            "\n",
            "* Grilled chicken breast (3-4 oz) served on a bed of mixed greens with a variety of colorful veggies (like bell peppers, red onion, and shredded carrots)\n",
            "* A homemade vinaigrette dressing made with olive oil, vinegar, and herbs or spices\n",
            "* A piece of fruit for dessert (like an apple or a pear)\n",
            "\n",
            "**Afternoon Snack:**\n",
            "\n",
            "* A small handful of nuts and seeds (like almonds and sunflower seeds)\n",
            "* A cup of herbal tea\n",
            "\n",
            "**Dinner:**\n",
            "\n",
            "* Grilled chicken thighs (3-4 oz) served with roasted vegetables (like broccoli, cauliflower, and brussels sprouts) seasoned with olive oil, salt, pepper, and garlic\n",
            "* A small side salad with mixed greens and a simple vinaigrette dressing\n",
            "* A glass of water or unsweetened iced tea\n",
            "\n",
            "**Evening Snack:**\n",
            "\n",
            "* A small piece of dark chocolate (70% cocoa or higher) or a few squares of antioxidant-rich fruit like berries\n",
            "\n",
            "This meal plan is high in fiber, protein, and healthy fats, which can help regulate blood sugar levels and keep you feeling full and satisfied throughout the day. Of course, it's important to adjust portion sizes and ingredients to fit your individual needs and preferences, and to consult with a healthcare provider or a registered dietitian for personalized advice.\n"
          ]
        }
      ]
    },
    {
      "cell_type": "markdown",
      "source": [],
      "metadata": {
        "id": "IUOvag_nTq74"
      }
    },
    {
      "cell_type": "markdown",
      "source": [
        "##Testing by giving changing the prompt each time...\n",
        "\n",
        "\n",
        "\n"
      ],
      "metadata": {
        "id": "Zj7eb2wqUHHh"
      }
    },
    {
      "cell_type": "code",
      "source": [
        "custom_prompt = \"A country is experiencing rapid urbanization and rural food supply chains are broken. Suggest sustainable policies to fix it.\"\n",
        "print(\"Custom Response:\", query_huggingface(custom_prompt))\n"
      ],
      "metadata": {
        "colab": {
          "base_uri": "https://localhost:8080/"
        },
        "id": "BcVWcEgMpyYh",
        "outputId": "4d397752-dfc0-486e-d8f3-bcea94650103"
      },
      "execution_count": null,
      "outputs": [
        {
          "output_type": "stream",
          "name": "stdout",
          "text": [
            "Custom Response: Rapid urbanization can put significant pressure on food supply chains, particularly when it comes to ensuring food security in rural areas. Here are some sustainable policies that could help fix broken rural food supply chains:\n",
            "\n",
            "1. Support local food systems: Policies that promote local food systems can help to reduce the distance that food needs to travel, supports local farmers and producers, and can help to ensure that rural communities have access to fresh, nutritious food. This could include things like farmers' markets, community-supported agriculture programs, and local food hubs.\n",
            "2. Improve transportation and infrastructure: In many cases, rural food supply chains are broken because of inadequate transportation and infrastructure. Policies that invest in roads, railways, and other forms of transportation can help to connect rural producers with urban markets, making it easier for them to sell their products. Similarly, policies that improve rural infrastructure, such as electricity and irrigation systems, can help farmers to produce more food and to store it for longer periods of time.\n",
            "3. Promote sustainable agriculture: Sustainable agriculture practices can help to ensure that rural food supply chains are resilient and able to withstand shocks and stresses. Policies that promote sustainable agriculture could include things like providing technical assistance to farmers, offering financial incentives for sustainable practices, and supporting research and development of new sustainable technologies.\n",
            "4. Improve access to credit and financing: Many rural farmers and producers struggle to access the credit and financing they need to invest in their businesses and scale up production. Policies that improve access to credit and financing, such as through microfinance programs or government-backed loans, can help to empower rural producers and make it easier for them to participate in local and regional food systems.\n",
            "5. Foster partnerships and collaboration: Finally, policies that foster partnerships and collaboration between different stakeholders in the food system can help to create more sustainable and resilient rural food supply chains. This could include partnerships between farmers, processors, distributors, retailers, and consumers, as well as partnerships between government, civil society, and the private sector. By working together, these stakeholders can help to identify challenges and opportunities, share knowledge and best practices, and develop innovative solutions to ensure that rural communities have access to the food they need to thrive.\n"
          ]
        }
      ]
    },
    {
      "cell_type": "code",
      "source": [
        "custom_prompt = \"Due to unexpected floods, large quantities of harvested crops are rotting in storage. Suggest immediate and long-term actions to reduce food loss and improve resilience.\"\n",
        "print(\"Custom Response:\", query_huggingface(custom_prompt))\n"
      ],
      "metadata": {
        "colab": {
          "base_uri": "https://localhost:8080/"
        },
        "id": "LCNb4DpTqLgd",
        "outputId": "a686e7e7-4de1-4f2e-e3f5-68684e5b4be5"
      },
      "execution_count": null,
      "outputs": [
        {
          "output_type": "stream",
          "name": "stdout",
          "text": [
            "Custom Response: Immediate actions to reduce food loss:\n",
            "\n",
            "1. Relocate: If possible, transfer the rotting crops to higher ground or dryer storage facilities to prevent further damage.\n",
            "\n",
            "2. Sort and distribute: Sort through the damaged crops and distribute undamaged ones to local food banks, shelters, and communities in need.\n",
            "\n",
            "3. Clean and dry: Clean and dry the storage facilities thoroughly to prevent mold growth and further contamination.\n",
            "\n",
            "4. Consult experts: Seek advice from agricultural extension services, crop specialists, and engineers on how to salvage damaged crops and improve storage conditions.\n",
            "\n",
            "5. Document losses: Document the extent of the damage for insurance purposes and potential government aid.\n",
            "\n",
            "Long-term actions to improve resilience:\n",
            "\n",
            "1. Invest in infrastructure: Upgrade storage facilities with climate-control systems, waterproofing, and proper ventilation to minimize the risk of damage from floods and other natural disasters.\n",
            "\n",
            "2. Diversify crops: Promote crop diversity to reduce vulnerability to specific pests, diseases, and climate conditions.\n",
            "\n",
            "3. Improve early warning systems: Develop and maintain efficient flood warning systems to allow farmers to prepare for potential flood events.\n",
            "\n",
            "4. Promote sustainable agricultural practices: Encourage the adoption of conservation agriculture, agroforestry, and other sustainable practices that enhance soil health, water management, and overall resilience.\n",
            "\n",
            "5. Strengthen local markets: Support the development of local food systems and short supply chains to reduce dependence on long-distance transportation and improve overall system resilience.\n",
            "\n",
            "6. Provide farmers with financial support and insurance: Offer subsidies, low-interest loans, and crop insurance programs to help farmers recover from losses and invest in more resilient infrastructure.\n",
            "\n",
            "7. Climate change adaptation: Foster research and innovation in climate change adaptation strategies, such as drought-resistant crop varieties and water-efficient irrigation systems.\n",
            "\n",
            "8. Education and training: Offer training programs for farmers on best practices for crop storage, disaster preparedness, and climate change adaptation.\n",
            "\n",
            "9. Collaboration and partnerships: Encourage collaboration between government agencies, research institutions, non-governmental organizations, and private sector partners to address food loss and improve overall system resilience.\n",
            "\n",
            "10. Monitor and evaluate: Regularly monitor and\n"
          ]
        }
      ]
    },
    {
      "cell_type": "markdown",
      "source": [
        "##Testing by giving the prompts using UI\n",
        "\n",
        "---\n",
        "\n"
      ],
      "metadata": {
        "id": "0jTP2jnKUWlj"
      }
    },
    {
      "cell_type": "code",
      "source": [
        "import ipywidgets as widgets\n",
        "from IPython.display import display, Markdown\n",
        "\n",
        "# Create input box\n",
        "prompt_box = widgets.Textarea(\n",
        "    value='',\n",
        "    placeholder='Type your policy question or food issue here...',\n",
        "    description='Prompt:',\n",
        "    layout=widgets.Layout(width='90%', height='100px'),\n",
        "    style={'description_width': 'initial'}\n",
        ")\n",
        "\n",
        "# Create button\n",
        "run_button = widgets.Button(\n",
        "    description='Ask',\n",
        "    button_style='success',\n",
        "    tooltip='Click to get AI response'\n",
        ")\n",
        "\n",
        "# Create output area\n",
        "output = widgets.Output()\n",
        "\n",
        "# Define the callback\n",
        "def on_button_click(b):\n",
        "    output.clear_output()\n",
        "    with output:\n",
        "        prompt = prompt_box.value\n",
        "        if not prompt.strip():\n",
        "            print(\"⚠️ Please enter a prompt.\")\n",
        "        else:\n",
        "            print(\"🔍 Prompt:\", prompt)\n",
        "            response = query_huggingface(prompt)\n",
        "            display(Markdown(f\"### 🤖 Response:\\n{response}\"))\n",
        "\n",
        "# Link the button\n",
        "run_button.on_click(on_button_click)\n",
        "\n",
        "\n",
        "prompt_type = widgets.Dropdown(\n",
        "    options=[\n",
        "        'Policy Recommendation',\n",
        "        'Nutrition Advice',\n",
        "        'Farmer Guidance',\n",
        "        'Disaster Response',\n",
        "        'Supply Chain Fix'\n",
        "    ],\n",
        "    description='Prompt Type:'\n",
        ")\n",
        "\n",
        "def fill_example_prompt(change):\n",
        "    example_prompts = {\n",
        "        'Policy Recommendation': \"Suggest a national food redistribution policy to reduce hunger in urban slums.\",\n",
        "        'Nutrition Advice': \"A consumer has access only to potatoes, spinach, and milk. Suggest a balanced meal plan.\",\n",
        "        'Farmer Guidance': \"The soil is acidic and water is limited. What crops should a farmer plant?\",\n",
        "        'Disaster Response': \"Floods destroyed rural storage. What emergency food strategies can help?\",\n",
        "        'Supply Chain Fix': \"There is overproduction in Region A and shortage in Region B. Suggest logistics solutions.\"\n",
        "    }\n",
        "    prompt_box.value = example_prompts[change['new']]\n",
        "\n",
        "prompt_type.observe(fill_example_prompt, names='value')\n",
        "display(prompt_type)\n",
        "\n",
        "\n",
        "# Display all\n",
        "display(prompt_box, run_button, output)\n",
        "\n",
        "\n"
      ],
      "metadata": {
        "colab": {
          "base_uri": "https://localhost:8080/",
          "height": 609,
          "referenced_widgets": [
            "57fb394d99e947a7a7ef3cf877800490",
            "15094d493981417c937bfd86dfaaa1aa",
            "7ab50a8d87af4e7190b38b48505a6b6c",
            "1377a8a3e4304bd28d52dfed13652f74",
            "65241c586daa459d98193c004bd7c21c",
            "c9e0caca7cef45bab5f4bfd099c43e0a",
            "8d40f8f880e349848113765bb4d24a59",
            "158b8e6861e54a43a29264b18306857c",
            "922e6920e8fa458ba4016bd4e63df97d",
            "bcc03d895f454a69843ee414f4cb69e0",
            "e56697fc481e4f63aab411b147fbe53e"
          ]
        },
        "id": "Tsar1OAgqZbq",
        "outputId": "80d5bbb0-9446-4892-d58a-dc6211699f24"
      },
      "execution_count": null,
      "outputs": [
        {
          "output_type": "display_data",
          "data": {
            "text/plain": [
              "Dropdown(description='Prompt Type:', options=('Policy Recommendation', 'Nutrition Advice', 'Farmer Guidance', …"
            ],
            "application/vnd.jupyter.widget-view+json": {
              "version_major": 2,
              "version_minor": 0,
              "model_id": "57fb394d99e947a7a7ef3cf877800490"
            }
          },
          "metadata": {}
        },
        {
          "output_type": "display_data",
          "data": {
            "text/plain": [
              "Textarea(value='', description='Prompt:', layout=Layout(height='100px', width='90%'), placeholder='Type your p…"
            ],
            "application/vnd.jupyter.widget-view+json": {
              "version_major": 2,
              "version_minor": 0,
              "model_id": "1377a8a3e4304bd28d52dfed13652f74"
            }
          },
          "metadata": {}
        },
        {
          "output_type": "display_data",
          "data": {
            "text/plain": [
              "Button(button_style='success', description='Ask', style=ButtonStyle(), tooltip='Click to get AI response')"
            ],
            "application/vnd.jupyter.widget-view+json": {
              "version_major": 2,
              "version_minor": 0,
              "model_id": "8d40f8f880e349848113765bb4d24a59"
            }
          },
          "metadata": {}
        },
        {
          "output_type": "display_data",
          "data": {
            "text/plain": [
              "Output()"
            ],
            "application/vnd.jupyter.widget-view+json": {
              "version_major": 2,
              "version_minor": 0,
              "model_id": "bcc03d895f454a69843ee414f4cb69e0"
            }
          },
          "metadata": {}
        }
      ]
    },
    {
      "cell_type": "markdown",
      "source": [
        "###Visualisation"
      ],
      "metadata": {
        "id": "SlXL8Re6Wvw_"
      }
    },
    {
      "cell_type": "code",
      "source": [
        "import matplotlib.pyplot as plt\n",
        "\n",
        "def plot_food_supply():\n",
        "    days = list(range(10))\n",
        "    supply = [100 - day * 5 + (day % 3) * 10 for day in days]\n",
        "    plt.plot(days, supply, marker='o')\n",
        "    plt.title(\"📈 Simulated Food Supply Over Time\")\n",
        "    plt.xlabel(\"Day\")\n",
        "    plt.ylabel(\"Food Units\")\n",
        "    plt.grid(True)\n",
        "    plt.show()\n",
        "\n",
        "plot_food_supply()"
      ],
      "metadata": {
        "colab": {
          "base_uri": "https://localhost:8080/",
          "height": 507
        },
        "id": "lii7TZBM22D8",
        "outputId": "e612b8e4-0b0c-4f50-8f92-7eb16cfdb67f"
      },
      "execution_count": null,
      "outputs": [
        {
          "output_type": "stream",
          "name": "stderr",
          "text": [
            "/usr/local/lib/python3.11/dist-packages/IPython/core/pylabtools.py:151: UserWarning: Glyph 128200 (\\N{CHART WITH UPWARDS TREND}) missing from font(s) DejaVu Sans.\n",
            "  fig.canvas.print_figure(bytes_io, **kw)\n"
          ]
        },
        {
          "output_type": "display_data",
          "data": {
            "text/plain": [
              "<Figure size 640x480 with 1 Axes>"
            ],
            "image/png": "[encoded data removed]"
          },
          "metadata": {}
        }
      ]
    }
  ]
}